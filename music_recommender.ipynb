{
 "cells": [
  {
   "cell_type": "markdown",
   "metadata": {},
   "source": [
    "# Demonstrating the use of simple collaborative filtering algorithms on small data set which contains ratings of specific period."
   ]
  },
  {
   "cell_type": "code",
   "execution_count": 316,
   "metadata": {
    "collapsed": true
   },
   "outputs": [],
   "source": [
    "import numpy as np\n",
    "import pandas as pd"
   ]
  },
  {
   "cell_type": "code",
   "execution_count": 317,
   "metadata": {
    "collapsed": false
   },
   "outputs": [],
   "source": [
    "# df=pd.read_csv('spotify_data.csv',header=None, nrows=12000)\n",
    "# df.columns = df.iloc[0]\n",
    "# df = df[1:]\n",
    "# df.head()"
   ]
  },
  {
   "cell_type": "code",
   "execution_count": 318,
   "metadata": {},
   "outputs": [
    {
     "data": {
      "text/html": [
       "<div>\n",
       "<style scoped>\n",
       "    .dataframe tbody tr th:only-of-type {\n",
       "        vertical-align: middle;\n",
       "    }\n",
       "\n",
       "    .dataframe tbody tr th {\n",
       "        vertical-align: top;\n",
       "    }\n",
       "\n",
       "    .dataframe thead th {\n",
       "        text-align: right;\n",
       "    }\n",
       "</style>\n",
       "<table border=\"1\" class=\"dataframe\">\n",
       "  <thead>\n",
       "    <tr style=\"text-align: right;\">\n",
       "      <th></th>\n",
       "      <th>0</th>\n",
       "      <th>1</th>\n",
       "      <th>2</th>\n",
       "      <th>3</th>\n",
       "      <th>4</th>\n",
       "      <th>5</th>\n",
       "      <th>6</th>\n",
       "      <th>7</th>\n",
       "    </tr>\n",
       "  </thead>\n",
       "  <tbody>\n",
       "    <tr>\n",
       "      <th>1</th>\n",
       "      <td>Guruvaram</td>\n",
       "      <td>58DAnVD65xKeQW3ARTBolV</td>\n",
       "      <td>Vijay Prakash</td>\n",
       "      <td>4iA6bUhiZyvRKJf4FNVX39</td>\n",
       "      <td>https://open.spotify.com/track/58DAnVD65xKeQW3...</td>\n",
       "      <td>https://i.scdn.co/image/ab67616d0000b27383ba53...</td>\n",
       "      <td>2018-03-10</td>\n",
       "      <td>59</td>\n",
       "    </tr>\n",
       "    <tr>\n",
       "      <th>2</th>\n",
       "      <td>Sayyaave</td>\n",
       "      <td>5rDlNHtDJl16JnKaPEOsQ3</td>\n",
       "      <td>Shankar Mahadevan</td>\n",
       "      <td>1SJOL9HJ08YOn92lFcYf8a</td>\n",
       "      <td>https://open.spotify.com/track/5rDlNHtDJl16JnK...</td>\n",
       "      <td>https://i.scdn.co/image/ab67616d0000b273275a2d...</td>\n",
       "      <td>2011-07-14</td>\n",
       "      <td>57</td>\n",
       "    </tr>\n",
       "    <tr>\n",
       "      <th>3</th>\n",
       "      <td>Kannuodu Kaanbadhalam</td>\n",
       "      <td>5XI8QHHWAF1iEhKNnnOqct</td>\n",
       "      <td>Nithyasree</td>\n",
       "      <td>6yLXX4buMky6p4XAwLmrNS</td>\n",
       "      <td>https://open.spotify.com/track/5XI8QHHWAF1iEhK...</td>\n",
       "      <td>https://i.scdn.co/image/ab67616d0000b27305077f...</td>\n",
       "      <td>1998-06-27</td>\n",
       "      <td>61</td>\n",
       "    </tr>\n",
       "    <tr>\n",
       "      <th>4</th>\n",
       "      <td>Kurukku Siruthvalea (From Mudhalvan)</td>\n",
       "      <td>00QuXoF6LyKwH9xz7lXGdf</td>\n",
       "      <td>Hariharan</td>\n",
       "      <td>2NoJ7NuNs9nyj8Thoh1kbu</td>\n",
       "      <td>https://open.spotify.com/track/00QuXoF6LyKwH9x...</td>\n",
       "      <td>https://i.scdn.co/image/ab67616d0000b273d6f63a...</td>\n",
       "      <td>2013-05-13</td>\n",
       "      <td>54</td>\n",
       "    </tr>\n",
       "    <tr>\n",
       "      <th>5</th>\n",
       "      <td>Vennilave</td>\n",
       "      <td>4YjA4ibJwUvRCKitHwGLU3</td>\n",
       "      <td>Harisankar</td>\n",
       "      <td>2tRNoMJzgk0Fn8Iy2db0rK</td>\n",
       "      <td>https://open.spotify.com/track/4YjA4ibJwUvRCKi...</td>\n",
       "      <td>https://i.scdn.co/image/ab67616d0000b27365c26a...</td>\n",
       "      <td>2018-07-08</td>\n",
       "      <td>54</td>\n",
       "    </tr>\n",
       "  </tbody>\n",
       "</table>\n",
       "</div>"
      ],
      "text/plain": [
       "                                      0                       1  \\\n",
       "1                             Guruvaram  58DAnVD65xKeQW3ARTBolV   \n",
       "2                              Sayyaave  5rDlNHtDJl16JnKaPEOsQ3   \n",
       "3                 Kannuodu Kaanbadhalam  5XI8QHHWAF1iEhKNnnOqct   \n",
       "4  Kurukku Siruthvalea (From Mudhalvan)  00QuXoF6LyKwH9xz7lXGdf   \n",
       "5                             Vennilave  4YjA4ibJwUvRCKitHwGLU3   \n",
       "\n",
       "                   2                       3  \\\n",
       "1      Vijay Prakash  4iA6bUhiZyvRKJf4FNVX39   \n",
       "2  Shankar Mahadevan  1SJOL9HJ08YOn92lFcYf8a   \n",
       "3         Nithyasree  6yLXX4buMky6p4XAwLmrNS   \n",
       "4          Hariharan  2NoJ7NuNs9nyj8Thoh1kbu   \n",
       "5         Harisankar  2tRNoMJzgk0Fn8Iy2db0rK   \n",
       "\n",
       "                                                   4  \\\n",
       "1  https://open.spotify.com/track/58DAnVD65xKeQW3...   \n",
       "2  https://open.spotify.com/track/5rDlNHtDJl16JnK...   \n",
       "3  https://open.spotify.com/track/5XI8QHHWAF1iEhK...   \n",
       "4  https://open.spotify.com/track/00QuXoF6LyKwH9x...   \n",
       "5  https://open.spotify.com/track/4YjA4ibJwUvRCKi...   \n",
       "\n",
       "                                                   5           6   7  \n",
       "1  https://i.scdn.co/image/ab67616d0000b27383ba53...  2018-03-10  59  \n",
       "2  https://i.scdn.co/image/ab67616d0000b273275a2d...  2011-07-14  57  \n",
       "3  https://i.scdn.co/image/ab67616d0000b27305077f...  1998-06-27  61  \n",
       "4  https://i.scdn.co/image/ab67616d0000b273d6f63a...  2013-05-13  54  \n",
       "5  https://i.scdn.co/image/ab67616d0000b27365c26a...  2018-07-08  54  "
      ]
     },
     "execution_count": 318,
     "metadata": {},
     "output_type": "execute_result"
    }
   ],
   "source": [
    "df=pd.read_csv('spotify_data.csv',header=None, nrows=12000)\n",
    "\n",
    "df = df[1:]\n",
    "df.head()#column order: song name, song id, artist name, artist id, link, image, ratings, date"
   ]
  },
  {
   "cell_type": "code",
   "execution_count": 319,
   "metadata": {
    "collapsed": false
   },
   "outputs": [
    {
     "data": {
      "text/plain": [
       "(99, 8)"
      ]
     },
     "execution_count": 319,
     "metadata": {},
     "output_type": "execute_result"
    }
   ],
   "source": [
    "df.shape"
   ]
  },
  {
   "cell_type": "code",
   "execution_count": 320,
   "metadata": {
    "collapsed": false
   },
   "outputs": [
    {
     "name": "stdout",
     "output_type": "stream",
     "text": [
      "61 unique artist\n",
      "99 unique song\n",
      "20 unique ratings\n"
     ]
    }
   ],
   "source": [
    "n_artist = df[3].unique().shape[0]\n",
    "n_song = df[1].unique().shape[0]\n",
    "n_rating = df[7].unique().shape[0]\n",
    "\n",
    "print ('%i unique artist' %n_artist)\n",
    "print ('%i unique song' %n_song)\n",
    "print ('%i unique ratings' %n_rating)"
   ]
  },
  {
   "cell_type": "code",
   "execution_count": 321,
   "metadata": {
    "collapsed": false
   },
   "outputs": [
    {
     "data": {
      "text/html": [
       "<div>\n",
       "<style scoped>\n",
       "    .dataframe tbody tr th:only-of-type {\n",
       "        vertical-align: middle;\n",
       "    }\n",
       "\n",
       "    .dataframe tbody tr th {\n",
       "        vertical-align: top;\n",
       "    }\n",
       "\n",
       "    .dataframe thead th {\n",
       "        text-align: right;\n",
       "    }\n",
       "</style>\n",
       "<table border=\"1\" class=\"dataframe\">\n",
       "  <thead>\n",
       "    <tr style=\"text-align: right;\">\n",
       "      <th>1</th>\n",
       "      <th>00PXj8pxWLJ3apEnCPJTNI</th>\n",
       "      <th>00QuXoF6LyKwH9xz7lXGdf</th>\n",
       "      <th>03GldviaGI7cvpCBuuyrrP</th>\n",
       "      <th>09KdVJCUon1OvPmST9uJKt</th>\n",
       "      <th>0QBuP7vvKyoGAMlUBDJVWn</th>\n",
       "      <th>0QuBYwamB56c3OOW5JAFS8</th>\n",
       "      <th>0Tr96i1fHT4YhdYh5pXHUk</th>\n",
       "      <th>0YNz2Qdl3C60BgVrSBVSJA</th>\n",
       "      <th>0ZGicTeWpoIMpJax3NAuhn</th>\n",
       "      <th>0cVrLxeQjiAcftuGzp32qY</th>\n",
       "      <th>...</th>\n",
       "      <th>6voQcZ46RMVPfg6O7sBn5U</th>\n",
       "      <th>748ih9gzoNJ90rmyF2SH6y</th>\n",
       "      <th>7FEWG1bL31YAcnxJQvxJJO</th>\n",
       "      <th>7L2D6W7e8mn0zf8cH78Ch4</th>\n",
       "      <th>7eTLnhsPWXcfQWcRg3YFj5</th>\n",
       "      <th>7fIAlEFbasrx4TAM3QcpSM</th>\n",
       "      <th>7heMX7gyHP0mhTlNgd7Lxd</th>\n",
       "      <th>7jealCIagU5YyWB3WQYVoV</th>\n",
       "      <th>7qVpqgrADqHIHqS9GE9RTg</th>\n",
       "      <th>7rUHVRy3jgrP9vIIJDuZ2G</th>\n",
       "    </tr>\n",
       "    <tr>\n",
       "      <th>3</th>\n",
       "      <th></th>\n",
       "      <th></th>\n",
       "      <th></th>\n",
       "      <th></th>\n",
       "      <th></th>\n",
       "      <th></th>\n",
       "      <th></th>\n",
       "      <th></th>\n",
       "      <th></th>\n",
       "      <th></th>\n",
       "      <th></th>\n",
       "      <th></th>\n",
       "      <th></th>\n",
       "      <th></th>\n",
       "      <th></th>\n",
       "      <th></th>\n",
       "      <th></th>\n",
       "      <th></th>\n",
       "      <th></th>\n",
       "      <th></th>\n",
       "      <th></th>\n",
       "    </tr>\n",
       "  </thead>\n",
       "  <tbody>\n",
       "    <tr>\n",
       "      <th>0QkALWjhQrP8pflLVoMYpg</th>\n",
       "      <td>NaN</td>\n",
       "      <td>NaN</td>\n",
       "      <td>NaN</td>\n",
       "      <td>NaN</td>\n",
       "      <td>NaN</td>\n",
       "      <td>NaN</td>\n",
       "      <td>NaN</td>\n",
       "      <td>NaN</td>\n",
       "      <td>NaN</td>\n",
       "      <td>NaN</td>\n",
       "      <td>...</td>\n",
       "      <td>NaN</td>\n",
       "      <td>NaN</td>\n",
       "      <td>NaN</td>\n",
       "      <td>NaN</td>\n",
       "      <td>NaN</td>\n",
       "      <td>NaN</td>\n",
       "      <td>NaN</td>\n",
       "      <td>NaN</td>\n",
       "      <td>NaN</td>\n",
       "      <td>NaN</td>\n",
       "    </tr>\n",
       "    <tr>\n",
       "      <th>0WiZi3Q419nMpAQEqfBCbk</th>\n",
       "      <td>NaN</td>\n",
       "      <td>NaN</td>\n",
       "      <td>NaN</td>\n",
       "      <td>NaN</td>\n",
       "      <td>NaN</td>\n",
       "      <td>NaN</td>\n",
       "      <td>NaN</td>\n",
       "      <td>NaN</td>\n",
       "      <td>NaN</td>\n",
       "      <td>NaN</td>\n",
       "      <td>...</td>\n",
       "      <td>NaN</td>\n",
       "      <td>NaN</td>\n",
       "      <td>NaN</td>\n",
       "      <td>NaN</td>\n",
       "      <td>NaN</td>\n",
       "      <td>NaN</td>\n",
       "      <td>NaN</td>\n",
       "      <td>NaN</td>\n",
       "      <td>NaN</td>\n",
       "      <td>NaN</td>\n",
       "    </tr>\n",
       "    <tr>\n",
       "      <th>0a4PNswQHfm1lfnOCTjVeh</th>\n",
       "      <td>NaN</td>\n",
       "      <td>NaN</td>\n",
       "      <td>NaN</td>\n",
       "      <td>NaN</td>\n",
       "      <td>NaN</td>\n",
       "      <td>NaN</td>\n",
       "      <td>NaN</td>\n",
       "      <td>NaN</td>\n",
       "      <td>NaN</td>\n",
       "      <td>NaN</td>\n",
       "      <td>...</td>\n",
       "      <td>NaN</td>\n",
       "      <td>NaN</td>\n",
       "      <td>NaN</td>\n",
       "      <td>NaN</td>\n",
       "      <td>NaN</td>\n",
       "      <td>NaN</td>\n",
       "      <td>NaN</td>\n",
       "      <td>NaN</td>\n",
       "      <td>NaN</td>\n",
       "      <td>NaN</td>\n",
       "    </tr>\n",
       "    <tr>\n",
       "      <th>0aUQnP4HhUQXcurZl9GJIA</th>\n",
       "      <td>NaN</td>\n",
       "      <td>NaN</td>\n",
       "      <td>NaN</td>\n",
       "      <td>NaN</td>\n",
       "      <td>NaN</td>\n",
       "      <td>NaN</td>\n",
       "      <td>NaN</td>\n",
       "      <td>NaN</td>\n",
       "      <td>NaN</td>\n",
       "      <td>NaN</td>\n",
       "      <td>...</td>\n",
       "      <td>NaN</td>\n",
       "      <td>NaN</td>\n",
       "      <td>NaN</td>\n",
       "      <td>NaN</td>\n",
       "      <td>NaN</td>\n",
       "      <td>NaN</td>\n",
       "      <td>NaN</td>\n",
       "      <td>NaN</td>\n",
       "      <td>NaN</td>\n",
       "      <td>NaN</td>\n",
       "    </tr>\n",
       "    <tr>\n",
       "      <th>0rL4uL3xfYOt2p7NHhS8qr</th>\n",
       "      <td>NaN</td>\n",
       "      <td>NaN</td>\n",
       "      <td>NaN</td>\n",
       "      <td>NaN</td>\n",
       "      <td>NaN</td>\n",
       "      <td>NaN</td>\n",
       "      <td>NaN</td>\n",
       "      <td>NaN</td>\n",
       "      <td>NaN</td>\n",
       "      <td>NaN</td>\n",
       "      <td>...</td>\n",
       "      <td>NaN</td>\n",
       "      <td>NaN</td>\n",
       "      <td>NaN</td>\n",
       "      <td>NaN</td>\n",
       "      <td>NaN</td>\n",
       "      <td>NaN</td>\n",
       "      <td>NaN</td>\n",
       "      <td>NaN</td>\n",
       "      <td>NaN</td>\n",
       "      <td>NaN</td>\n",
       "    </tr>\n",
       "    <tr>\n",
       "      <th>...</th>\n",
       "      <td>...</td>\n",
       "      <td>...</td>\n",
       "      <td>...</td>\n",
       "      <td>...</td>\n",
       "      <td>...</td>\n",
       "      <td>...</td>\n",
       "      <td>...</td>\n",
       "      <td>...</td>\n",
       "      <td>...</td>\n",
       "      <td>...</td>\n",
       "      <td>...</td>\n",
       "      <td>...</td>\n",
       "      <td>...</td>\n",
       "      <td>...</td>\n",
       "      <td>...</td>\n",
       "      <td>...</td>\n",
       "      <td>...</td>\n",
       "      <td>...</td>\n",
       "      <td>...</td>\n",
       "      <td>...</td>\n",
       "      <td>...</td>\n",
       "    </tr>\n",
       "    <tr>\n",
       "      <th>7pdqSPB4dkmIhAs4TpN6bR</th>\n",
       "      <td>NaN</td>\n",
       "      <td>NaN</td>\n",
       "      <td>NaN</td>\n",
       "      <td>NaN</td>\n",
       "      <td>NaN</td>\n",
       "      <td>NaN</td>\n",
       "      <td>NaN</td>\n",
       "      <td>NaN</td>\n",
       "      <td>NaN</td>\n",
       "      <td>NaN</td>\n",
       "      <td>...</td>\n",
       "      <td>NaN</td>\n",
       "      <td>NaN</td>\n",
       "      <td>NaN</td>\n",
       "      <td>NaN</td>\n",
       "      <td>NaN</td>\n",
       "      <td>NaN</td>\n",
       "      <td>NaN</td>\n",
       "      <td>NaN</td>\n",
       "      <td>NaN</td>\n",
       "      <td>NaN</td>\n",
       "    </tr>\n",
       "    <tr>\n",
       "      <th>7qjJw7ZM2ekDSahLXPjIlN</th>\n",
       "      <td>NaN</td>\n",
       "      <td>NaN</td>\n",
       "      <td>NaN</td>\n",
       "      <td>NaN</td>\n",
       "      <td>NaN</td>\n",
       "      <td>NaN</td>\n",
       "      <td>NaN</td>\n",
       "      <td>NaN</td>\n",
       "      <td>NaN</td>\n",
       "      <td>NaN</td>\n",
       "      <td>...</td>\n",
       "      <td>NaN</td>\n",
       "      <td>NaN</td>\n",
       "      <td>NaN</td>\n",
       "      <td>NaN</td>\n",
       "      <td>NaN</td>\n",
       "      <td>NaN</td>\n",
       "      <td>NaN</td>\n",
       "      <td>NaN</td>\n",
       "      <td>NaN</td>\n",
       "      <td>NaN</td>\n",
       "    </tr>\n",
       "    <tr>\n",
       "      <th>7wkeZcQtvDAeGvrTQO2hfK</th>\n",
       "      <td>NaN</td>\n",
       "      <td>NaN</td>\n",
       "      <td>NaN</td>\n",
       "      <td>63</td>\n",
       "      <td>NaN</td>\n",
       "      <td>NaN</td>\n",
       "      <td>NaN</td>\n",
       "      <td>NaN</td>\n",
       "      <td>NaN</td>\n",
       "      <td>NaN</td>\n",
       "      <td>...</td>\n",
       "      <td>NaN</td>\n",
       "      <td>NaN</td>\n",
       "      <td>NaN</td>\n",
       "      <td>NaN</td>\n",
       "      <td>NaN</td>\n",
       "      <td>NaN</td>\n",
       "      <td>NaN</td>\n",
       "      <td>NaN</td>\n",
       "      <td>NaN</td>\n",
       "      <td>NaN</td>\n",
       "    </tr>\n",
       "    <tr>\n",
       "      <th>7zFBW2JxM4bgTTKxCRcS8Q</th>\n",
       "      <td>NaN</td>\n",
       "      <td>NaN</td>\n",
       "      <td>NaN</td>\n",
       "      <td>NaN</td>\n",
       "      <td>NaN</td>\n",
       "      <td>NaN</td>\n",
       "      <td>NaN</td>\n",
       "      <td>NaN</td>\n",
       "      <td>NaN</td>\n",
       "      <td>NaN</td>\n",
       "      <td>...</td>\n",
       "      <td>NaN</td>\n",
       "      <td>NaN</td>\n",
       "      <td>NaN</td>\n",
       "      <td>NaN</td>\n",
       "      <td>NaN</td>\n",
       "      <td>NaN</td>\n",
       "      <td>NaN</td>\n",
       "      <td>NaN</td>\n",
       "      <td>NaN</td>\n",
       "      <td>NaN</td>\n",
       "    </tr>\n",
       "    <tr>\n",
       "      <th>7zFlr6Y537SdALqy0Xfvth</th>\n",
       "      <td>NaN</td>\n",
       "      <td>NaN</td>\n",
       "      <td>NaN</td>\n",
       "      <td>NaN</td>\n",
       "      <td>NaN</td>\n",
       "      <td>NaN</td>\n",
       "      <td>NaN</td>\n",
       "      <td>NaN</td>\n",
       "      <td>NaN</td>\n",
       "      <td>NaN</td>\n",
       "      <td>...</td>\n",
       "      <td>NaN</td>\n",
       "      <td>NaN</td>\n",
       "      <td>NaN</td>\n",
       "      <td>NaN</td>\n",
       "      <td>NaN</td>\n",
       "      <td>NaN</td>\n",
       "      <td>NaN</td>\n",
       "      <td>57</td>\n",
       "      <td>NaN</td>\n",
       "      <td>NaN</td>\n",
       "    </tr>\n",
       "  </tbody>\n",
       "</table>\n",
       "<p>61 rows × 99 columns</p>\n",
       "</div>"
      ],
      "text/plain": [
       "1                      00PXj8pxWLJ3apEnCPJTNI 00QuXoF6LyKwH9xz7lXGdf  \\\n",
       "3                                                                      \n",
       "0QkALWjhQrP8pflLVoMYpg                    NaN                    NaN   \n",
       "0WiZi3Q419nMpAQEqfBCbk                    NaN                    NaN   \n",
       "0a4PNswQHfm1lfnOCTjVeh                    NaN                    NaN   \n",
       "0aUQnP4HhUQXcurZl9GJIA                    NaN                    NaN   \n",
       "0rL4uL3xfYOt2p7NHhS8qr                    NaN                    NaN   \n",
       "...                                       ...                    ...   \n",
       "7pdqSPB4dkmIhAs4TpN6bR                    NaN                    NaN   \n",
       "7qjJw7ZM2ekDSahLXPjIlN                    NaN                    NaN   \n",
       "7wkeZcQtvDAeGvrTQO2hfK                    NaN                    NaN   \n",
       "7zFBW2JxM4bgTTKxCRcS8Q                    NaN                    NaN   \n",
       "7zFlr6Y537SdALqy0Xfvth                    NaN                    NaN   \n",
       "\n",
       "1                      03GldviaGI7cvpCBuuyrrP 09KdVJCUon1OvPmST9uJKt  \\\n",
       "3                                                                      \n",
       "0QkALWjhQrP8pflLVoMYpg                    NaN                    NaN   \n",
       "0WiZi3Q419nMpAQEqfBCbk                    NaN                    NaN   \n",
       "0a4PNswQHfm1lfnOCTjVeh                    NaN                    NaN   \n",
       "0aUQnP4HhUQXcurZl9GJIA                    NaN                    NaN   \n",
       "0rL4uL3xfYOt2p7NHhS8qr                    NaN                    NaN   \n",
       "...                                       ...                    ...   \n",
       "7pdqSPB4dkmIhAs4TpN6bR                    NaN                    NaN   \n",
       "7qjJw7ZM2ekDSahLXPjIlN                    NaN                    NaN   \n",
       "7wkeZcQtvDAeGvrTQO2hfK                    NaN                     63   \n",
       "7zFBW2JxM4bgTTKxCRcS8Q                    NaN                    NaN   \n",
       "7zFlr6Y537SdALqy0Xfvth                    NaN                    NaN   \n",
       "\n",
       "1                      0QBuP7vvKyoGAMlUBDJVWn 0QuBYwamB56c3OOW5JAFS8  \\\n",
       "3                                                                      \n",
       "0QkALWjhQrP8pflLVoMYpg                    NaN                    NaN   \n",
       "0WiZi3Q419nMpAQEqfBCbk                    NaN                    NaN   \n",
       "0a4PNswQHfm1lfnOCTjVeh                    NaN                    NaN   \n",
       "0aUQnP4HhUQXcurZl9GJIA                    NaN                    NaN   \n",
       "0rL4uL3xfYOt2p7NHhS8qr                    NaN                    NaN   \n",
       "...                                       ...                    ...   \n",
       "7pdqSPB4dkmIhAs4TpN6bR                    NaN                    NaN   \n",
       "7qjJw7ZM2ekDSahLXPjIlN                    NaN                    NaN   \n",
       "7wkeZcQtvDAeGvrTQO2hfK                    NaN                    NaN   \n",
       "7zFBW2JxM4bgTTKxCRcS8Q                    NaN                    NaN   \n",
       "7zFlr6Y537SdALqy0Xfvth                    NaN                    NaN   \n",
       "\n",
       "1                      0Tr96i1fHT4YhdYh5pXHUk 0YNz2Qdl3C60BgVrSBVSJA  \\\n",
       "3                                                                      \n",
       "0QkALWjhQrP8pflLVoMYpg                    NaN                    NaN   \n",
       "0WiZi3Q419nMpAQEqfBCbk                    NaN                    NaN   \n",
       "0a4PNswQHfm1lfnOCTjVeh                    NaN                    NaN   \n",
       "0aUQnP4HhUQXcurZl9GJIA                    NaN                    NaN   \n",
       "0rL4uL3xfYOt2p7NHhS8qr                    NaN                    NaN   \n",
       "...                                       ...                    ...   \n",
       "7pdqSPB4dkmIhAs4TpN6bR                    NaN                    NaN   \n",
       "7qjJw7ZM2ekDSahLXPjIlN                    NaN                    NaN   \n",
       "7wkeZcQtvDAeGvrTQO2hfK                    NaN                    NaN   \n",
       "7zFBW2JxM4bgTTKxCRcS8Q                    NaN                    NaN   \n",
       "7zFlr6Y537SdALqy0Xfvth                    NaN                    NaN   \n",
       "\n",
       "1                      0ZGicTeWpoIMpJax3NAuhn 0cVrLxeQjiAcftuGzp32qY  ...  \\\n",
       "3                                                                     ...   \n",
       "0QkALWjhQrP8pflLVoMYpg                    NaN                    NaN  ...   \n",
       "0WiZi3Q419nMpAQEqfBCbk                    NaN                    NaN  ...   \n",
       "0a4PNswQHfm1lfnOCTjVeh                    NaN                    NaN  ...   \n",
       "0aUQnP4HhUQXcurZl9GJIA                    NaN                    NaN  ...   \n",
       "0rL4uL3xfYOt2p7NHhS8qr                    NaN                    NaN  ...   \n",
       "...                                       ...                    ...  ...   \n",
       "7pdqSPB4dkmIhAs4TpN6bR                    NaN                    NaN  ...   \n",
       "7qjJw7ZM2ekDSahLXPjIlN                    NaN                    NaN  ...   \n",
       "7wkeZcQtvDAeGvrTQO2hfK                    NaN                    NaN  ...   \n",
       "7zFBW2JxM4bgTTKxCRcS8Q                    NaN                    NaN  ...   \n",
       "7zFlr6Y537SdALqy0Xfvth                    NaN                    NaN  ...   \n",
       "\n",
       "1                      6voQcZ46RMVPfg6O7sBn5U 748ih9gzoNJ90rmyF2SH6y  \\\n",
       "3                                                                      \n",
       "0QkALWjhQrP8pflLVoMYpg                    NaN                    NaN   \n",
       "0WiZi3Q419nMpAQEqfBCbk                    NaN                    NaN   \n",
       "0a4PNswQHfm1lfnOCTjVeh                    NaN                    NaN   \n",
       "0aUQnP4HhUQXcurZl9GJIA                    NaN                    NaN   \n",
       "0rL4uL3xfYOt2p7NHhS8qr                    NaN                    NaN   \n",
       "...                                       ...                    ...   \n",
       "7pdqSPB4dkmIhAs4TpN6bR                    NaN                    NaN   \n",
       "7qjJw7ZM2ekDSahLXPjIlN                    NaN                    NaN   \n",
       "7wkeZcQtvDAeGvrTQO2hfK                    NaN                    NaN   \n",
       "7zFBW2JxM4bgTTKxCRcS8Q                    NaN                    NaN   \n",
       "7zFlr6Y537SdALqy0Xfvth                    NaN                    NaN   \n",
       "\n",
       "1                      7FEWG1bL31YAcnxJQvxJJO 7L2D6W7e8mn0zf8cH78Ch4  \\\n",
       "3                                                                      \n",
       "0QkALWjhQrP8pflLVoMYpg                    NaN                    NaN   \n",
       "0WiZi3Q419nMpAQEqfBCbk                    NaN                    NaN   \n",
       "0a4PNswQHfm1lfnOCTjVeh                    NaN                    NaN   \n",
       "0aUQnP4HhUQXcurZl9GJIA                    NaN                    NaN   \n",
       "0rL4uL3xfYOt2p7NHhS8qr                    NaN                    NaN   \n",
       "...                                       ...                    ...   \n",
       "7pdqSPB4dkmIhAs4TpN6bR                    NaN                    NaN   \n",
       "7qjJw7ZM2ekDSahLXPjIlN                    NaN                    NaN   \n",
       "7wkeZcQtvDAeGvrTQO2hfK                    NaN                    NaN   \n",
       "7zFBW2JxM4bgTTKxCRcS8Q                    NaN                    NaN   \n",
       "7zFlr6Y537SdALqy0Xfvth                    NaN                    NaN   \n",
       "\n",
       "1                      7eTLnhsPWXcfQWcRg3YFj5 7fIAlEFbasrx4TAM3QcpSM  \\\n",
       "3                                                                      \n",
       "0QkALWjhQrP8pflLVoMYpg                    NaN                    NaN   \n",
       "0WiZi3Q419nMpAQEqfBCbk                    NaN                    NaN   \n",
       "0a4PNswQHfm1lfnOCTjVeh                    NaN                    NaN   \n",
       "0aUQnP4HhUQXcurZl9GJIA                    NaN                    NaN   \n",
       "0rL4uL3xfYOt2p7NHhS8qr                    NaN                    NaN   \n",
       "...                                       ...                    ...   \n",
       "7pdqSPB4dkmIhAs4TpN6bR                    NaN                    NaN   \n",
       "7qjJw7ZM2ekDSahLXPjIlN                    NaN                    NaN   \n",
       "7wkeZcQtvDAeGvrTQO2hfK                    NaN                    NaN   \n",
       "7zFBW2JxM4bgTTKxCRcS8Q                    NaN                    NaN   \n",
       "7zFlr6Y537SdALqy0Xfvth                    NaN                    NaN   \n",
       "\n",
       "1                      7heMX7gyHP0mhTlNgd7Lxd 7jealCIagU5YyWB3WQYVoV  \\\n",
       "3                                                                      \n",
       "0QkALWjhQrP8pflLVoMYpg                    NaN                    NaN   \n",
       "0WiZi3Q419nMpAQEqfBCbk                    NaN                    NaN   \n",
       "0a4PNswQHfm1lfnOCTjVeh                    NaN                    NaN   \n",
       "0aUQnP4HhUQXcurZl9GJIA                    NaN                    NaN   \n",
       "0rL4uL3xfYOt2p7NHhS8qr                    NaN                    NaN   \n",
       "...                                       ...                    ...   \n",
       "7pdqSPB4dkmIhAs4TpN6bR                    NaN                    NaN   \n",
       "7qjJw7ZM2ekDSahLXPjIlN                    NaN                    NaN   \n",
       "7wkeZcQtvDAeGvrTQO2hfK                    NaN                    NaN   \n",
       "7zFBW2JxM4bgTTKxCRcS8Q                    NaN                    NaN   \n",
       "7zFlr6Y537SdALqy0Xfvth                    NaN                     57   \n",
       "\n",
       "1                      7qVpqgrADqHIHqS9GE9RTg 7rUHVRy3jgrP9vIIJDuZ2G  \n",
       "3                                                                     \n",
       "0QkALWjhQrP8pflLVoMYpg                    NaN                    NaN  \n",
       "0WiZi3Q419nMpAQEqfBCbk                    NaN                    NaN  \n",
       "0a4PNswQHfm1lfnOCTjVeh                    NaN                    NaN  \n",
       "0aUQnP4HhUQXcurZl9GJIA                    NaN                    NaN  \n",
       "0rL4uL3xfYOt2p7NHhS8qr                    NaN                    NaN  \n",
       "...                                       ...                    ...  \n",
       "7pdqSPB4dkmIhAs4TpN6bR                    NaN                    NaN  \n",
       "7qjJw7ZM2ekDSahLXPjIlN                    NaN                    NaN  \n",
       "7wkeZcQtvDAeGvrTQO2hfK                    NaN                    NaN  \n",
       "7zFBW2JxM4bgTTKxCRcS8Q                    NaN                    NaN  \n",
       "7zFlr6Y537SdALqy0Xfvth                    NaN                    NaN  \n",
       "\n",
       "[61 rows x 99 columns]"
      ]
     },
     "execution_count": 321,
     "metadata": {},
     "output_type": "execute_result"
    }
   ],
   "source": [
    "#generate user-item matrix\n",
    "ratings=df.pivot(index=3, columns=1, values=7)\n",
    "ratings"
   ]
  },
  {
   "cell_type": "code",
   "execution_count": 322,
   "metadata": {
    "collapsed": true
   },
   "outputs": [
    {
     "data": {
      "text/plain": [
       "array([[ 0,  0,  0, ...,  0,  0,  0],\n",
       "       [ 0,  0,  0, ...,  0,  0,  0],\n",
       "       [ 0,  0,  0, ...,  0,  0,  0],\n",
       "       ...,\n",
       "       [ 0,  0,  0, ...,  0,  0,  0],\n",
       "       [ 0,  0,  0, ...,  0,  0,  0],\n",
       "       [ 0,  0,  0, ..., 57,  0,  0]])"
      ]
     },
     "execution_count": 322,
     "metadata": {},
     "output_type": "execute_result"
    }
   ],
   "source": [
    "ratings=ratings.fillna(0).values\n",
    "ratings=np.array(ratings, dtype=int)\n",
    "ratings"
   ]
  },
  {
   "cell_type": "code",
   "execution_count": 323,
   "metadata": {},
   "outputs": [
    {
     "name": "stdout",
     "output_type": "stream",
     "text": [
      "[ 0  1  1  2  3  4  4  4  5  6  6  7  8  9 10 11 12 13 13 13 13 13 13 13\n",
      " 13 13 14 14 15 16 17 17 17 17 18 19 20 20 20 20 21 22 22 22 23 24 25 26\n",
      " 27 28 29 30 31 32 33 33 34 35 36 37 38 38 38 38 38 39 40 41 41 41 42 43\n",
      " 44 44 44 44 45 46 47 48 49 50 50 50 50 51 51 52 53 54 55 56 57 57 57 58\n",
      " 59 59 60] \n",
      " [61 21 31 35 30 41 47 57 88 23 52 58 56 18 80 87 73  4  9 20 22 65 72 74\n",
      " 91 95 44 66 38 94  2 24 43 60 27  7  1  8 50 71 15  5 49 90 54 79 29 11\n",
      " 67 14 76 77 28 45 75 83 17 69 62 86 37 46 51 53 78 68 19  6 25 36 81  0\n",
      " 12 42 63 85 89 97 98 26 64 13 34 39 84 10 92 93 32 70 59 40 16 55 82  3\n",
      " 33 48 96] 61\n"
     ]
    },
    {
     "data": {
      "text/plain": [
       "99"
      ]
     },
     "execution_count": 323,
     "metadata": {},
     "output_type": "execute_result"
    }
   ],
   "source": [
    "print(ratings.nonzero()[0],\"\\n\",ratings.nonzero()[1],\n",
    "ratings.shape[0])\n",
    "ratings.shape[1]"
   ]
  },
  {
   "cell_type": "code",
   "execution_count": 324,
   "metadata": {
    "collapsed": false
   },
   "outputs": [
    {
     "name": "stdout",
     "output_type": "stream",
     "text": [
      "99.0\n",
      "0.01639344262295082\n",
      "percentage of artist-song user rating: 1.64%\n"
     ]
    }
   ],
   "source": [
    "sparsity = float(len(ratings.nonzero()[0]))\n",
    "print(sparsity)\n",
    "\n",
    "sparsity /= (ratings.shape[0] * ratings.shape[1])\n",
    "print(sparsity)\n",
    "\n",
    "sparsity *= 100\n",
    "print ('percentage of artist-song user rating: {:.2f}%'.format(sparsity))"
   ]
  },
  {
   "cell_type": "code",
   "execution_count": 325,
   "metadata": {
    "collapsed": true
   },
   "outputs": [],
   "source": [
    "# This creats a validation dataset by selecting rows (user) that have 35 or more ratings, then randomly select 15 of those ratings\n",
    "#for validation set, but set those values to 0 in the training set.\n",
    "\n",
    "def train_test_split(ratings):\n",
    "    \n",
    "    validation = np.zeros(ratings.shape)\n",
    "    train = ratings.copy() #did't do train=ratings, other wise, ratings becomes empty\n",
    "    \n",
    "    for user in np.arange(ratings.shape[0]):\n",
    "        if len(ratings[user,:].nonzero()[0])>=35:# 35 seems to be best, it depends on sparsity of your user-item matrix\n",
    "            val_ratings = np.random.choice(ratings[user, :].nonzero()[0], \n",
    "                                        size=15, #tweak this, 15 seems to be optimal\n",
    "                                        replace=False)\n",
    "            train[user, val_ratings] = 0\n",
    "            validation[user, val_ratings] = ratings[user, val_ratings]\n",
    "    print(validation.shape)\n",
    "    return train, validation"
   ]
  },
  {
   "cell_type": "code",
   "execution_count": 326,
   "metadata": {
    "collapsed": false
   },
   "outputs": [
    {
     "name": "stdout",
     "output_type": "stream",
     "text": [
      "(61, 99)\n"
     ]
    }
   ],
   "source": [
    "train, val = train_test_split(ratings)"
   ]
  },
  {
   "cell_type": "code",
   "execution_count": 327,
   "metadata": {},
   "outputs": [
    {
     "data": {
      "text/plain": [
       "array([[0., 0., 0., ..., 0., 0., 0.],\n",
       "       [0., 0., 0., ..., 0., 0., 0.],\n",
       "       [0., 0., 0., ..., 0., 0., 0.],\n",
       "       ...,\n",
       "       [0., 0., 0., ..., 0., 0., 0.],\n",
       "       [0., 0., 0., ..., 0., 0., 0.],\n",
       "       [0., 0., 0., ..., 0., 0., 0.]])"
      ]
     },
     "execution_count": 327,
     "metadata": {},
     "output_type": "execute_result"
    }
   ],
   "source": [
    "val"
   ]
  },
  {
   "cell_type": "code",
   "execution_count": 328,
   "metadata": {
    "collapsed": true
   },
   "outputs": [],
   "source": [
    "from numpy import linalg as LA"
   ]
  },
  {
   "cell_type": "code",
   "execution_count": 329,
   "metadata": {},
   "outputs": [],
   "source": [
    "#ratings.dot(ratings.T)"
   ]
  },
  {
   "cell_type": "code",
   "execution_count": 330,
   "metadata": {
    "collapsed": true
   },
   "outputs": [],
   "source": [
    "def cos_similarity(ratings, kind='user', epsilon=1e-9):\n",
    "    # epsilon -> small number for handling dived-by-zero errors\n",
    "    if kind == 'user':\n",
    "        sim = ratings.dot(ratings.T) + epsilon\n",
    "        norms=np.array(LA.norm(ratings)*LA.norm(ratings.T))\n",
    "    elif kind == 'item':\n",
    "        sim = ratings.T.dot(ratings) + epsilon\n",
    "        norms = np.array(LA.norm(ratings.T)*LA.norm(ratings))\n",
    "    return (sim / norms )"
   ]
  },
  {
   "cell_type": "code",
   "execution_count": 331,
   "metadata": {
    "collapsed": false
   },
   "outputs": [
    {
     "name": "stdout",
     "output_type": "stream",
     "text": [
      "[[2.80233715e-15 2.80233715e-15 2.80233715e-15 2.80233715e-15\n",
      "  2.80233715e-15 2.80233715e-15 2.80233715e-15 2.80233715e-15\n",
      "  2.80233715e-15 2.80233715e-15 2.80233715e-15 2.80233715e-15\n",
      "  2.80233715e-15 2.80233715e-15 2.80233715e-15 2.80233715e-15\n",
      "  2.80233715e-15 2.80233715e-15 2.80233715e-15 2.80233715e-15\n",
      "  2.80233715e-15 2.80233715e-15 2.80233715e-15 2.80233715e-15\n",
      "  2.80233715e-15 2.80233715e-15 2.80233715e-15 2.80233715e-15\n",
      "  2.80233715e-15 2.80233715e-15 2.80233715e-15 2.80233715e-15\n",
      "  2.80233715e-15 2.80233715e-15 2.80233715e-15 2.80233715e-15\n",
      "  2.80233715e-15 2.80233715e-15 2.80233715e-15 2.80233715e-15\n",
      "  2.80233715e-15 2.30071880e-02 2.80233715e-15 2.80233715e-15\n",
      "  2.80233715e-15 2.80233715e-15 2.80233715e-15 2.80233715e-15\n",
      "  2.80233715e-15 2.80233715e-15 2.80233715e-15]\n",
      " [2.80233715e-15 2.80233715e-15 2.80233715e-15 2.80233715e-15\n",
      "  2.80233715e-15 2.80233715e-15 2.80233715e-15 2.80233715e-15\n",
      "  2.80233715e-15 2.80233715e-15 2.80233715e-15 2.80233715e-15\n",
      "  2.80233715e-15 2.80233715e-15 2.80233715e-15 2.80233715e-15\n",
      "  2.80233715e-15 2.80233715e-15 2.80233715e-15 2.80233715e-15\n",
      "  2.80233715e-15 2.80233715e-15 2.80233715e-15 2.80233715e-15\n",
      "  2.80233715e-15 2.80233715e-15 2.80233715e-15 2.80233715e-15\n",
      "  2.80233715e-15 2.80233715e-15 2.80233715e-15 2.80233715e-15\n",
      "  2.80233715e-15 2.80233715e-15 2.80233715e-15 2.80233715e-15\n",
      "  2.80233715e-15 2.80233715e-15 2.80233715e-15 2.80233715e-15\n",
      "  2.80233715e-15 2.80233715e-15 8.17161513e-03 2.80233715e-15\n",
      "  2.80233715e-15 2.80233715e-15 2.80233715e-15 2.80233715e-15\n",
      "  2.80233715e-15 2.80233715e-15 2.80233715e-15]\n",
      " [2.80233715e-15 2.80233715e-15 2.80233715e-15 2.80233715e-15\n",
      "  2.80233715e-15 2.80233715e-15 2.80233715e-15 2.80233715e-15\n",
      "  2.80233715e-15 2.80233715e-15 2.80233715e-15 2.80233715e-15\n",
      "  2.80233715e-15 2.80233715e-15 2.80233715e-15 2.80233715e-15\n",
      "  2.80233715e-15 2.80233715e-15 2.80233715e-15 2.80233715e-15\n",
      "  2.80233715e-15 2.80233715e-15 2.80233715e-15 2.80233715e-15\n",
      "  2.80233715e-15 2.80233715e-15 2.80233715e-15 2.80233715e-15\n",
      "  2.80233715e-15 2.80233715e-15 2.80233715e-15 2.80233715e-15\n",
      "  2.80233715e-15 2.80233715e-15 2.80233715e-15 2.80233715e-15\n",
      "  2.80233715e-15 2.80233715e-15 2.80233715e-15 2.80233715e-15\n",
      "  2.80233715e-15 2.80233715e-15 2.80233715e-15 9.10479340e-03\n",
      "  2.80233715e-15 2.80233715e-15 2.80233715e-15 2.80233715e-15\n",
      "  2.80233715e-15 2.80233715e-15 2.80233715e-15]\n",
      " [2.80233715e-15 2.80233715e-15 2.80233715e-15 2.80233715e-15\n",
      "  2.80233715e-15 2.80233715e-15 2.80233715e-15 2.80233715e-15\n",
      "  2.80233715e-15 2.80233715e-15 2.80233715e-15 2.80233715e-15\n",
      "  2.80233715e-15 2.80233715e-15 2.80233715e-15 2.80233715e-15\n",
      "  2.80233715e-15 2.80233715e-15 2.80233715e-15 2.80233715e-15\n",
      "  2.80233715e-15 2.80233715e-15 2.80233715e-15 2.80233715e-15\n",
      "  2.80233715e-15 2.80233715e-15 2.80233715e-15 2.80233715e-15\n",
      "  2.80233715e-15 2.80233715e-15 2.80233715e-15 2.80233715e-15\n",
      "  2.80233715e-15 2.80233715e-15 2.80233715e-15 2.80233715e-15\n",
      "  2.80233715e-15 2.80233715e-15 2.80233715e-15 2.80233715e-15\n",
      "  2.80233715e-15 2.80233715e-15 2.80233715e-15 2.80233715e-15\n",
      "  1.04274965e-02 2.80233715e-15 2.80233715e-15 2.80233715e-15\n",
      "  2.80233715e-15 2.80233715e-15 2.80233715e-15]\n",
      " [2.80233715e-15 2.80233715e-15 2.80233715e-15 2.80233715e-15\n",
      "  2.80233715e-15 2.80233715e-15 2.80233715e-15 2.80233715e-15\n",
      "  2.80233715e-15 2.80233715e-15 2.80233715e-15 2.80233715e-15\n",
      "  2.80233715e-15 2.80233715e-15 2.80233715e-15 2.80233715e-15\n",
      "  2.80233715e-15 2.80233715e-15 2.80233715e-15 2.80233715e-15\n",
      "  2.80233715e-15 2.80233715e-15 2.80233715e-15 2.80233715e-15\n",
      "  2.80233715e-15 2.80233715e-15 2.80233715e-15 2.80233715e-15\n",
      "  2.80233715e-15 2.80233715e-15 2.80233715e-15 2.80233715e-15\n",
      "  2.80233715e-15 2.80233715e-15 2.80233715e-15 2.80233715e-15\n",
      "  2.80233715e-15 2.80233715e-15 2.80233715e-15 2.80233715e-15\n",
      "  2.80233715e-15 2.80233715e-15 2.80233715e-15 2.80233715e-15\n",
      "  2.80233715e-15 1.22069806e-02 2.80233715e-15 2.80233715e-15\n",
      "  2.80233715e-15 2.80233715e-15 2.80233715e-15]\n",
      " [2.80233715e-15 2.80233715e-15 2.80233715e-15 2.80233715e-15\n",
      "  2.80233715e-15 2.80233715e-15 2.80233715e-15 2.80233715e-15\n",
      "  2.80233715e-15 2.80233715e-15 2.80233715e-15 2.80233715e-15\n",
      "  2.80233715e-15 2.80233715e-15 2.80233715e-15 2.80233715e-15\n",
      "  2.80233715e-15 2.80233715e-15 2.80233715e-15 2.80233715e-15\n",
      "  2.80233715e-15 2.80233715e-15 2.80233715e-15 2.80233715e-15\n",
      "  2.80233715e-15 2.80233715e-15 2.80233715e-15 2.80233715e-15\n",
      "  2.80233715e-15 2.80233715e-15 2.80233715e-15 2.80233715e-15\n",
      "  2.80233715e-15 2.80233715e-15 2.80233715e-15 2.80233715e-15\n",
      "  2.80233715e-15 2.80233715e-15 2.80233715e-15 2.80233715e-15\n",
      "  2.80233715e-15 2.80233715e-15 2.80233715e-15 2.80233715e-15\n",
      "  2.80233715e-15 2.80233715e-15 8.78812930e-03 2.80233715e-15\n",
      "  2.80233715e-15 2.80233715e-15 2.80233715e-15]\n",
      " [2.80233715e-15 2.80233715e-15 2.80233715e-15 2.80233715e-15\n",
      "  2.80233715e-15 2.80233715e-15 2.80233715e-15 2.80233715e-15\n",
      "  2.80233715e-15 2.80233715e-15 2.80233715e-15 2.80233715e-15\n",
      "  2.80233715e-15 2.80233715e-15 2.80233715e-15 2.80233715e-15\n",
      "  2.80233715e-15 2.80233715e-15 2.80233715e-15 2.80233715e-15\n",
      "  2.80233715e-15 2.80233715e-15 2.80233715e-15 2.80233715e-15\n",
      "  2.80233715e-15 2.80233715e-15 2.80233715e-15 2.80233715e-15\n",
      "  2.80233715e-15 2.80233715e-15 2.80233715e-15 2.80233715e-15\n",
      "  2.80233715e-15 2.80233715e-15 2.80233715e-15 2.80233715e-15\n",
      "  2.80233715e-15 2.80233715e-15 2.80233715e-15 2.80233715e-15\n",
      "  2.80233715e-15 2.80233715e-15 2.80233715e-15 2.80233715e-15\n",
      "  2.80233715e-15 2.80233715e-15 2.80233715e-15 3.45528170e-02\n",
      "  2.80233715e-15 2.80233715e-15 2.80233715e-15]\n",
      " [2.80233715e-15 2.80233715e-15 2.80233715e-15 2.80233715e-15\n",
      "  2.80233715e-15 2.80233715e-15 2.80233715e-15 2.80233715e-15\n",
      "  2.80233715e-15 2.80233715e-15 2.80233715e-15 2.80233715e-15\n",
      "  2.80233715e-15 2.80233715e-15 2.80233715e-15 2.80233715e-15\n",
      "  2.80233715e-15 2.80233715e-15 2.80233715e-15 2.80233715e-15\n",
      "  2.80233715e-15 2.80233715e-15 2.80233715e-15 2.80233715e-15\n",
      "  2.80233715e-15 2.80233715e-15 2.80233715e-15 2.80233715e-15\n",
      "  2.80233715e-15 2.80233715e-15 2.80233715e-15 2.80233715e-15\n",
      "  2.80233715e-15 2.80233715e-15 2.80233715e-15 2.80233715e-15\n",
      "  2.80233715e-15 2.80233715e-15 2.80233715e-15 2.80233715e-15\n",
      "  2.80233715e-15 2.80233715e-15 2.80233715e-15 2.80233715e-15\n",
      "  2.80233715e-15 2.80233715e-15 2.80233715e-15 2.80233715e-15\n",
      "  1.11224761e-02 2.80233715e-15 2.80233715e-15]\n",
      " [2.80233715e-15 2.80233715e-15 2.80233715e-15 2.80233715e-15\n",
      "  2.80233715e-15 2.80233715e-15 2.80233715e-15 2.80233715e-15\n",
      "  2.80233715e-15 2.80233715e-15 2.80233715e-15 2.80233715e-15\n",
      "  2.80233715e-15 2.80233715e-15 2.80233715e-15 2.80233715e-15\n",
      "  2.80233715e-15 2.80233715e-15 2.80233715e-15 2.80233715e-15\n",
      "  2.80233715e-15 2.80233715e-15 2.80233715e-15 2.80233715e-15\n",
      "  2.80233715e-15 2.80233715e-15 2.80233715e-15 2.80233715e-15\n",
      "  2.80233715e-15 2.80233715e-15 2.80233715e-15 2.80233715e-15\n",
      "  2.80233715e-15 2.80233715e-15 2.80233715e-15 2.80233715e-15\n",
      "  2.80233715e-15 2.80233715e-15 2.80233715e-15 2.80233715e-15\n",
      "  2.80233715e-15 2.80233715e-15 2.80233715e-15 2.80233715e-15\n",
      "  2.80233715e-15 2.80233715e-15 2.80233715e-15 2.80233715e-15\n",
      "  2.80233715e-15 2.13117740e-02 2.80233715e-15]\n",
      " [2.80233715e-15 2.80233715e-15 2.80233715e-15 2.80233715e-15\n",
      "  2.80233715e-15 2.80233715e-15 2.80233715e-15 2.80233715e-15\n",
      "  2.80233715e-15 2.80233715e-15 2.80233715e-15 2.80233715e-15\n",
      "  2.80233715e-15 2.80233715e-15 2.80233715e-15 2.80233715e-15\n",
      "  2.80233715e-15 2.80233715e-15 2.80233715e-15 2.80233715e-15\n",
      "  2.80233715e-15 2.80233715e-15 2.80233715e-15 2.80233715e-15\n",
      "  2.80233715e-15 2.80233715e-15 2.80233715e-15 2.80233715e-15\n",
      "  2.80233715e-15 2.80233715e-15 2.80233715e-15 2.80233715e-15\n",
      "  2.80233715e-15 2.80233715e-15 2.80233715e-15 2.80233715e-15\n",
      "  2.80233715e-15 2.80233715e-15 2.80233715e-15 2.80233715e-15\n",
      "  2.80233715e-15 2.80233715e-15 2.80233715e-15 2.80233715e-15\n",
      "  2.80233715e-15 2.80233715e-15 2.80233715e-15 2.80233715e-15\n",
      "  2.80233715e-15 2.80233715e-15 9.10479340e-03]]\n"
     ]
    }
   ],
   "source": [
    "user_similarity = cos_similarity(train, kind='user')\n",
    "item_similarity=cos_similarity(train, kind='item')\n",
    "print (user_similarity[-10:, 10:])\n",
    "#print (item_similarity[-10:, 10:])"
   ]
  },
  {
   "cell_type": "markdown",
   "metadata": {},
   "source": [
    "# Generate prediction using cosine similarity matrix as weights (memory based) and adjusting bias for individual user by mean-subtraction of rating"
   ]
  },
  {
   "cell_type": "code",
   "execution_count": 332,
   "metadata": {
    "collapsed": true
   },
   "outputs": [],
   "source": [
    "def predict_nobias(ratings, similarity, kind='user'):\n",
    "    if kind == 'user':\n",
    "        user_bias = ratings.mean(axis=1)\n",
    "        ratings = (ratings - user_bias[:, np.newaxis]).copy()\n",
    "        pred = similarity.dot(ratings) / np.array([np.abs(similarity).sum(axis=1)]).T\n",
    "        pred += user_bias[:, np.newaxis]\n",
    "    elif kind == 'item':\n",
    "        item_bias = ratings.mean(axis=0)\n",
    "        ratings = (ratings - item_bias[np.newaxis, :]).copy()\n",
    "        pred = ratings.dot(similarity) / np.array([np.abs(similarity).sum(axis=1)])\n",
    "        pred += item_bias[np.newaxis, :]\n",
    "        \n",
    "    return pred"
   ]
  },
  {
   "cell_type": "code",
   "execution_count": 333,
   "metadata": {
    "collapsed": false
   },
   "outputs": [
    {
     "name": "stdout",
     "output_type": "stream",
     "text": [
      "[[1.10556009e-11 8.75755024e-12 1.01938458e-11 ... 9.61930535e-12\n",
      "  8.75743922e-12 9.33197963e-12]\n",
      " [1.14477317e-11 1.01492148e-11 1.09607878e-11 ... 1.06361586e-11\n",
      "  1.01492148e-11 1.04738440e-11]\n",
      " [1.01477715e-11 8.19466717e-12 9.41535738e-12 ... 8.92708130e-12\n",
      "  8.19455614e-12 8.68294325e-12]\n",
      " ...\n",
      " [1.03173026e-11 8.30158164e-12 9.56146273e-12 ... 9.05753250e-12\n",
      "  8.30158164e-12 8.80551188e-12]\n",
      " [1.02458042e-11 9.19375687e-12 9.85123094e-12 ... 9.58833013e-12\n",
      "  9.19375687e-12 9.45687972e-12]\n",
      " [1.14658283e-11 9.00346464e-12 1.05425668e-11 ... 5.70000000e+01\n",
      "  9.00346464e-12 9.61908331e-12]]\n"
     ]
    }
   ],
   "source": [
    "user_prediction2 = predict_nobias(train, user_similarity, kind='user')\n",
    "item_prediction2 = predict_nobias(train, item_similarity, kind='item')\n",
    "print(user_prediction2)\n"
   ]
  },
  {
   "cell_type": "code",
   "execution_count": 334,
   "metadata": {
    "collapsed": true
   },
   "outputs": [],
   "source": [
    "from sklearn.metrics import mean_squared_error\n",
    "from math import sqrt\n"
   ]
  },
  {
   "cell_type": "code",
   "execution_count": 335,
   "metadata": {
    "collapsed": false
   },
   "outputs": [
    {
     "name": "stdout",
     "output_type": "stream",
     "text": [
      "User-based bias-adjusted CF RMSE: 7.69\n",
      "Item-based bias-adjusted CF RMSE: 7.69\n"
     ]
    }
   ],
   "source": [
    "def rmse(prediction, ground_truth):\n",
    "    prediction = prediction[ground_truth.nonzero()].flatten() \n",
    "    ground_truth = ground_truth[ground_truth.nonzero()].flatten()\n",
    "    return sqrt(mean_squared_error(prediction, ground_truth))\n",
    "print ('User-based bias-adjusted CF RMSE: %.2f' %rmse(val,user_prediction2))\n",
    "print ('Item-based bias-adjusted CF RMSE: %.2f' %rmse(val,item_prediction2))"
   ]
  },
  {
   "cell_type": "markdown",
   "metadata": {},
   "source": [
    "# Using Stochastic Gradient Descend method to update the above low rank matrices for the latent features . "
   ]
  },
  {
   "cell_type": "code",
   "execution_count": 336,
   "metadata": {
    "collapsed": true
   },
   "outputs": [],
   "source": [
    "#P is latent user feature matrix\n",
    "#Q is latent item feature matrix\n",
    "def prediction(P,Q):\n",
    "    return np.dot(P.T,Q)"
   ]
  },
  {
   "cell_type": "code",
   "execution_count": 337,
   "metadata": {
    "collapsed": true
   },
   "outputs": [],
   "source": [
    "lmbda = 0.4 # Regularization parameter\n",
    "k = 3 #tweak this parameter\n",
    "m, n = train.shape  # Number of users and items\n",
    "n_epochs = 100  # Number of epochs\n",
    "alpha=0.01  # Learning rate\n",
    "\n",
    "P = 3 * np.random.rand(k,m) # Latent user feature matrix\n",
    "Q = 3 * np.random.rand(k,n) # Latent movie feature matrix"
   ]
  },
  {
   "cell_type": "code",
   "execution_count": 338,
   "metadata": {
    "collapsed": false
   },
   "outputs": [],
   "source": [
    "train_errors = []\n",
    "val_errors = []\n",
    "\n",
    "#Only consider items with ratings \n",
    "users,items = train.nonzero()      \n",
    "for epoch in range(n_epochs):\n",
    "    for u, i in zip(users,items):\n",
    "        e = train[u, i] - prediction(P[:,u],Q[:,i])  # Calculate error for gradient update\n",
    "        P[:,u] += alpha * ( e * Q[:,i] - lmbda * P[:,u]) # Update latent user feature matrix\n",
    "        Q[:,i] += alpha * ( e * P[:,u] - lmbda * Q[:,i])  # Update latent item feature matrix\n",
    "    \n",
    "    train_rmse = rmse(train,prediction(P,Q))\n",
    "    val_rmse = rmse(val,prediction(P,Q)) \n",
    "    train_errors.append(train_rmse)\n",
    "    val_errors.append(val_rmse)"
   ]
  },
  {
   "cell_type": "code",
   "execution_count": 339,
   "metadata": {
    "collapsed": false
   },
   "outputs": [
    {
     "data": {
      "image/png": "[encoded data removed]",
      "text/plain": [
       "<Figure size 640x480 with 1 Axes>"
      ]
     },
     "metadata": {},
     "output_type": "display_data"
    }
   ],
   "source": [
    "import matplotlib.pyplot as plt\n",
    "%matplotlib inline\n",
    "\n",
    "plt.plot(range(n_epochs), train_errors, marker='o', label='Training Data');\n",
    "plt.plot(range(n_epochs), val_errors, marker='s', label='Validation Data');\n",
    "plt.xlabel('Number of Epochs');\n",
    "plt.ylabel('RMSE');\n",
    "plt.legend()\n",
    "plt.grid()\n",
    "plt.show()"
   ]
  },
  {
   "cell_type": "markdown",
   "metadata": {},
   "source": [
    "# Take a look at prediction vs. actual ratings"
   ]
  },
  {
   "cell_type": "code",
   "execution_count": 340,
   "metadata": {
    "collapsed": false
   },
   "outputs": [],
   "source": [
    "SGD_prediction=prediction(P,Q)"
   ]
  },
  {
   "cell_type": "code",
   "execution_count": 341,
   "metadata": {
    "collapsed": false
   },
   "outputs": [],
   "source": [
    "estimation= SGD_prediction[train.nonzero()]\n",
    "ground_truth = train[train.nonzero()]\n",
    "results=pd.DataFrame({'prediction':estimation, 'actual rating':ground_truth})"
   ]
  },
  {
   "cell_type": "code",
   "execution_count": 342,
   "metadata": {
    "collapsed": false
   },
   "outputs": [
    {
     "data": {
      "text/html": [
       "<div>\n",
       "<style scoped>\n",
       "    .dataframe tbody tr th:only-of-type {\n",
       "        vertical-align: middle;\n",
       "    }\n",
       "\n",
       "    .dataframe tbody tr th {\n",
       "        vertical-align: top;\n",
       "    }\n",
       "\n",
       "    .dataframe thead th {\n",
       "        text-align: right;\n",
       "    }\n",
       "</style>\n",
       "<table border=\"1\" class=\"dataframe\">\n",
       "  <thead>\n",
       "    <tr style=\"text-align: right;\">\n",
       "      <th></th>\n",
       "      <th>prediction</th>\n",
       "      <th>actual rating</th>\n",
       "    </tr>\n",
       "  </thead>\n",
       "  <tbody>\n",
       "    <tr>\n",
       "      <th>0</th>\n",
       "      <td>58.600736</td>\n",
       "      <td>59</td>\n",
       "    </tr>\n",
       "    <tr>\n",
       "      <th>1</th>\n",
       "      <td>55.587370</td>\n",
       "      <td>56</td>\n",
       "    </tr>\n",
       "    <tr>\n",
       "      <th>2</th>\n",
       "      <td>54.607961</td>\n",
       "      <td>55</td>\n",
       "    </tr>\n",
       "    <tr>\n",
       "      <th>3</th>\n",
       "      <td>63.602464</td>\n",
       "      <td>64</td>\n",
       "    </tr>\n",
       "    <tr>\n",
       "      <th>4</th>\n",
       "      <td>53.601470</td>\n",
       "      <td>54</td>\n",
       "    </tr>\n",
       "  </tbody>\n",
       "</table>\n",
       "</div>"
      ],
      "text/plain": [
       "   prediction  actual rating\n",
       "0   58.600736             59\n",
       "1   55.587370             56\n",
       "2   54.607961             55\n",
       "3   63.602464             64\n",
       "4   53.601470             54"
      ]
     },
     "execution_count": 342,
     "metadata": {},
     "output_type": "execute_result"
    }
   ],
   "source": [
    "results.head()"
   ]
  }
 ],
 "metadata": {
  "anaconda-cloud": {},
  "kernelspec": {
   "display_name": "Python [default]",
   "language": "python",
   "name": "python3"
  },
  "language_info": {
   "codemirror_mode": {
    "name": "ipython",
    "version": 3
   },
   "file_extension": ".py",
   "mimetype": "text/x-python",
   "name": "python",
   "nbconvert_exporter": "python",
   "pygments_lexer": "ipython3",
   "version": "3.12.3"
  }
 },
 "nbformat": 4,
 "nbformat_minor": 0
}
